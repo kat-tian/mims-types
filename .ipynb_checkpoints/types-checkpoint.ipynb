{
 "cells": [
  {
   "cell_type": "markdown",
   "id": "edc27490",
   "metadata": {},
   "source": [
    "# Types and structures Lab\n",
    "\n",
    "Data types are the values that can be represented in Python. We have integers (ints), strings (str), booleans (bool) and etc. Data structures are the containers that can hold these values. A list is just like a grocery list - it lists all the items you want to hold inside square brackets []. A dictionary has a key, value pair. The key must always be unique and we can use it to \"look up\" our value, just as you would \"look up\" words in a physical dictionary. \n"
   ]
  },
  {
   "cell_type": "markdown",
   "id": "b3245e4f",
   "metadata": {},
   "source": [
    "## Thinking about types\n",
    "But how can we talk precisely about what goes in to functions and what comes out? You have already met a bunch of different kinds of objects in Python: `1`, `2.55`, `True`, `\"red\"`, `None`. Each of these has a **type**. When we talk about what goes in to functions and what comes out, we won’t talk about particular inputs (who cares if you double `7` or `9`? The point is you can’t double `False`). We’ll talk about the types of objects that functions operate on. Everything has a type. Here are a few **types** that you already know:\n",
    "\n",
    "|   Type  |     Examples     |                                                            Description                                                            |\n",
    "|:-------:|:----------------:|:---------------------------------------------------------------------------------------------------------------------------------:|\n",
    "| `int`   | `145`, `-200`    | Integers, just like you know them from math class :)                                                                              |\n",
    "| `float` | `1.1115`, `9.08` | Decimal numbers. They’re called `float` because of [how they are stored](https://en.wikipedia.org/wiki/Floating-point_arithmetic) |\n",
    "| `str`   | `“apple”`, `“x”` | Strings, or sequences of characters. Careful! `5` is an `int` but `\"5\"` is a `str`.                                               |\n",
    "| `bool`  | `True`, `False`  | Booleans, or True/False values. Named for George Boole, who spent a lot of time thinking about them.                              |\n",
    "\n",
    "> **👾💬 FYI**\n",
    ">\n",
    "> Every type is also a function which turns its argument into that type, if it’s possible. So `int(3.33333)` becomes `3`, `str(True)` becomes `\"True\"`, and `bool(0)` becomes False. But `int(\"j\")` is an error, because there’s no sensible way to turn `\"j\"` into an `int`. Python’s attitude toward types is pretty casual; even if something is not quite the right type, we’ll make it work if we can. Other languages are much stricter, requiring every variable to specify its type, and requiring every function to specify what type it accepts and what type it returns. There are tradeoffs, and you’ll probably develop an opinion on which you prefer once you learn a few more programming languages."
   ]
  },
  {
   "cell_type": "markdown",
   "id": "bcc3451d",
   "metadata": {},
   "source": [
    "✏️ Work with your group to fill in the following table. For each function describe what type the function would take as an input, and what type the function would return as output."
   ]
  },
  {
   "cell_type": "markdown",
   "id": "d534a1d4",
   "metadata": {},
   "source": [
    "*Edit the table by double clicking on this cell.*\n",
    "\n",
    "|                             Function                             | Input type(s) | Output type |\n",
    "|:----------------------------------------------------------------:|:-------------:|:-----------:|\n",
    "| Square root of a number                                          | float         | float       |\n",
    "| Multiplication of two integers                                   |               |             |\n",
    "| A function that gives all the factors of a number                |               |             |\n",
    "| A function to check if a word is a curse word                    |               |             |\n",
    "| A function that assigns a friendliness score to a sentence       |               |             |\n",
    "| A function that takes a website URL and returns the page content |               |             |\n",
    "| A function that counts the number of sentences in a paragraph    |               |             |\n",
    "| `>`                                                              |               |             |\n",
    "| `+`                                                              |               |             |"
   ]
  },
  {
   "cell_type": "markdown",
   "id": "76152145",
   "metadata": {},
   "source": [
    "### Guessing Outputs\n",
    "In the code cells below: <br> before running the code guess what the output will be and what the type of the output will be."
   ]
  },
  {
   "cell_type": "code",
   "execution_count": null,
   "id": "6829a338",
   "metadata": {},
   "outputs": [],
   "source": [
    "print(\"I write \"+\"22\"+\" lines of code\")"
   ]
  },
  {
   "cell_type": "code",
   "execution_count": null,
   "id": "f688dd16",
   "metadata": {},
   "outputs": [],
   "source": [
    "print(\"I write \"+22+\" lines of code\")"
   ]
  },
  {
   "cell_type": "code",
   "execution_count": 3,
   "id": "375ed118",
   "metadata": {},
   "outputs": [
    {
     "name": "stdout",
     "output_type": "stream",
     "text": [
      "True\n"
     ]
    }
   ],
   "source": [
    "print(True==True)"
   ]
  },
  {
   "cell_type": "code",
   "execution_count": 4,
   "id": "4009722a",
   "metadata": {},
   "outputs": [
    {
     "name": "stdout",
     "output_type": "stream",
     "text": [
      "False\n"
     ]
    }
   ],
   "source": [
    "print(True==False)"
   ]
  },
  {
   "cell_type": "code",
   "execution_count": 5,
   "id": "73be71dc",
   "metadata": {},
   "outputs": [
    {
     "name": "stdout",
     "output_type": "stream",
     "text": [
      "5.7\n"
     ]
    }
   ],
   "source": [
    "print(2.7+3)"
   ]
  },
  {
   "cell_type": "code",
   "execution_count": 6,
   "id": "c6e34c3b",
   "metadata": {},
   "outputs": [
    {
     "name": "stdout",
     "output_type": "stream",
     "text": [
      "False\n"
     ]
    }
   ],
   "source": [
    "print(False==2)"
   ]
  },
  {
   "cell_type": "code",
   "execution_count": 7,
   "id": "0390df53",
   "metadata": {},
   "outputs": [
    {
     "name": "stdout",
     "output_type": "stream",
     "text": [
      "True\n"
     ]
    }
   ],
   "source": [
    "print(2==2)"
   ]
  },
  {
   "cell_type": "code",
   "execution_count": 8,
   "id": "819567ee",
   "metadata": {},
   "outputs": [
    {
     "name": "stdout",
     "output_type": "stream",
     "text": [
      "<class 'int'>\n"
     ]
    }
   ],
   "source": [
    "print(type(10))"
   ]
  },
  {
   "cell_type": "code",
   "execution_count": 9,
   "id": "e6c1908f",
   "metadata": {},
   "outputs": [
    {
     "name": "stdout",
     "output_type": "stream",
     "text": [
      "<class 'str'>\n"
     ]
    }
   ],
   "source": [
    "print(type('10'))"
   ]
  },
  {
   "cell_type": "code",
   "execution_count": 10,
   "id": "ad70a0df",
   "metadata": {},
   "outputs": [
    {
     "name": "stdout",
     "output_type": "stream",
     "text": [
      "<class 'bool'>\n"
     ]
    }
   ],
   "source": [
    "print(type(False))"
   ]
  },
  {
   "cell_type": "markdown",
   "id": "cec9bc63",
   "metadata": {},
   "source": [
    "### Putting it into practice\n",
    "Let's put what we have learned about Python types to use! Solve the code challenges below:\n",
    "\n",
    "💻 : Write a function that takes an integer as input and returns a float ending in 0.5 (ex., 5 -> 5.5)\n",
    "\n",
    "> **👾 💬 FYI**\n",
    "> Remember, an integer plus a float results in a float."
   ]
  },
  {
   "cell_type": "code",
   "execution_count": null,
   "id": "7fa2e4a7",
   "metadata": {},
   "outputs": [],
   "source": [
    "#create a function \n",
    "#take an int as input\n",
    "#print a float ending in 0.5\n",
    "\n",
    "#your code here"
   ]
  },
  {
   "cell_type": "markdown",
   "id": "d887d345",
   "metadata": {},
   "source": [
    "💻 : Write a function that takes an integer or float as input and prints the following sentence: <br>\"The number you entered is: (number should show here)\"\n"
   ]
  },
  {
   "cell_type": "markdown",
   "id": "85142ae2",
   "metadata": {},
   "source": [
    "## Data Structures "
   ]
  },
  {
   "cell_type": "markdown",
   "id": "a1ddf048",
   "metadata": {},
   "source": [
    "## Lists\n",
    "In Python, we use lists to store obejcts. \n",
    "These objects can be of any type (e.g., float, int, str, boo, or mixed). <br>\n",
    "\n",
    "Here are some characteristics of a Python list: \n",
    "* Lists are ordered.\n",
    "* Lists can contain any arbitrary objects.\n",
    "* List elements can be accessed by index.\n",
    "* Lists are mutable."
   ]
  },
  {
   "cell_type": "code",
   "execution_count": 18,
   "id": "1261e3e9",
   "metadata": {},
   "outputs": [],
   "source": [
    "#an example of a Python list \n",
    "example_list = ['item 1', 2, 3==3, 'item 4', 4.5]"
   ]
  },
  {
   "cell_type": "markdown",
   "id": "a560916f",
   "metadata": {},
   "source": [
    "### Iterate through a list\n",
    "💻 : Using the `example_list` provided above, create a for loop to print the type of each item in the list.\n",
    "\n",
    "> **👾 💬 FYI**\n",
    "> You can access the type of each item using type().\n",
    "> Notice how the Python list can store multiple data types."
   ]
  },
  {
   "cell_type": "code",
   "execution_count": null,
   "id": "ba189f76",
   "metadata": {},
   "outputs": [],
   "source": [
    "#your code here "
   ]
  },
  {
   "cell_type": "markdown",
   "id": "94b63718",
   "metadata": {},
   "source": [
    "### Getting element from list by index\n",
    "\n",
    "`example_list = ['item 1', 2, 3==3, 'item 4', 4.5]`<br>\n",
    "We can extract the element from the list by calling the list name and adding the index position to the list name.\n",
    "For example, `example_list[0]` will return `item`. \n"
   ]
  },
  {
   "cell_type": "markdown",
   "id": "07d9d5f1",
   "metadata": {},
   "source": [
    "### Retreive item by index\n",
    "💻 : Using the `example_list` provided above, only reterive the values for items that have the type `str` (string)."
   ]
  },
  {
   "cell_type": "code",
   "execution_count": null,
   "id": "159f92a2",
   "metadata": {},
   "outputs": [],
   "source": [
    "#your code here "
   ]
  },
  {
   "cell_type": "markdown",
   "id": "ba0cd277",
   "metadata": {},
   "source": [
    "### A list is mutable \n",
    "A Python list is mutable. That means if we set all values in a list as strings, we can convert them to integers (so long as the value can be represented as an integer. This differs from a tuple since values are not mutable in a tuple).\n",
    "\n",
    "💻 : Use a for loop to change all the values in the list called `nums` from `int` to `str`. Save the result in a new list called `str_nums` and print the values in `str_nums`"
   ]
  },
  {
   "cell_type": "code",
   "execution_count": 2,
   "id": "c7d541b3",
   "metadata": {},
   "outputs": [],
   "source": [
    "nums = [1,2,3,4,5]\n",
    "#your code here \n"
   ]
  },
  {
   "cell_type": "markdown",
   "id": "9fb50555",
   "metadata": {},
   "source": [
    "## Dictionaries\n",
    "We can also use dictionaries to store information. \n",
    "They are formed with a key and value pair. Each key (keys must be unique) corresponds to a value. \n",
    "We can look up the value of a dictionary using its key  <br>\n",
    "\n",
    "Here are some characteristics of a Python dict: \n",
    "* Dictionaries are unordered.\n",
    "* Keys are unique.\n",
    "* Keys must be immutable"
   ]
  },
  {
   "cell_type": "code",
   "execution_count": 3,
   "id": "2ae4b7ee",
   "metadata": {},
   "outputs": [],
   "source": [
    "#example dictionary of an animal as key and sound it makes as value\n",
    "animals = {'dog': 'woof', 'bird':'chirp', 'cat':'meow', 'duck':'quack'}"
   ]
  },
  {
   "cell_type": "markdown",
   "id": "bd0eca07",
   "metadata": {},
   "source": [
    "### Retreive item by key\n",
    "💻 : Using the `animals` dict above, print the sound made by a dog and a bird using the keys to retrieve the value."
   ]
  },
  {
   "cell_type": "code",
   "execution_count": null,
   "id": "7799ed51",
   "metadata": {},
   "outputs": [],
   "source": [
    "#your code here "
   ]
  },
  {
   "cell_type": "markdown",
   "id": "3c1bcef1",
   "metadata": {},
   "source": [
    "### Iterate over dict\n",
    "💻 : Dicts are also an iterable. Write a for loop to iterate over every key, value pair in the dictionary. "
   ]
  },
  {
   "cell_type": "code",
   "execution_count": 7,
   "id": "0f9888b3",
   "metadata": {},
   "outputs": [],
   "source": [
    "#your code here"
   ]
  },
  {
   "cell_type": "markdown",
   "id": "b7898d14",
   "metadata": {},
   "source": [
    "### Iterate over dict and retreive item by key\n",
    "💻 : Iterate over the dictionary in the code cell below. Save all values where the value is equal to `food` in a list called `foods_list`. \n",
    "\n",
    "> **👾 💬 FYI**\n",
    "> you can print key, value pairs in a dict using: <br>\n",
    "> for key,value in d.items(): <br>\n",
    ">     print(key,value)\n",
    "\n",
    "* Remember: when in doubt, Google about!"
   ]
  },
  {
   "cell_type": "code",
   "execution_count": 3,
   "id": "9aaf174d",
   "metadata": {},
   "outputs": [],
   "source": [
    "d = {'pizza':'food', 'dumpling':'food', 'tea':'drink', \n",
    "     'coffee':'drink', 'pizza':'food', 'water':'drink', 'pasta':'food'}\n",
    "foods_list = []\n",
    "#your code here "
   ]
  },
  {
   "cell_type": "markdown",
   "id": "e65b26cc",
   "metadata": {},
   "source": [
    "## Apply your skills \n",
    "In this section, we will apply "
   ]
  },
  {
   "cell_type": "code",
   "execution_count": null,
   "id": "4cd74894",
   "metadata": {},
   "outputs": [],
   "source": []
  }
 ],
 "metadata": {
  "kernelspec": {
   "display_name": "Python 3 (ipykernel)",
   "language": "python",
   "name": "python3"
  },
  "language_info": {
   "codemirror_mode": {
    "name": "ipython",
    "version": 3
   },
   "file_extension": ".py",
   "mimetype": "text/x-python",
   "name": "python",
   "nbconvert_exporter": "python",
   "pygments_lexer": "ipython3",
   "version": "3.8.2"
  }
 },
 "nbformat": 4,
 "nbformat_minor": 5
}
