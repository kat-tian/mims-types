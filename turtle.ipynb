{
 "cells": [
  {
   "cell_type": "markdown",
   "id": "096c7919",
   "metadata": {},
   "source": [
    "# Turtle refresher\n",
    "\n",
    "In this lab, we will refersh our understanding of turlte and review what we have learned so far. \n",
    "<!-- Python is an object oriented programming langauge and you can think of classes as a way to make Python objects. In fact, you can consider a class like the \"blueprint\" of an object. But first, let's do some exercises in turtle to review what we have learned so far! -->"
   ]
  },
  {
   "cell_type": "code",
   "execution_count": 3,
   "id": "26ad508f",
   "metadata": {},
   "outputs": [],
   "source": [
    "from turtle import *"
   ]
  },
  {
   "cell_type": "markdown",
   "id": "61cc5715",
   "metadata": {},
   "source": [
    "### Refresher: Spaghetti code\n",
    "Let’s go through some challenge questions to review some of the concepts we have learned in Python turtle. We will start with easy challenge questions and move up to more difficult ones as we progress. \n",
    "\n",
    "💻 Create a drawing in turtle that makes a regular `orange` `square` with `4 sides` and each side of `length 80`. Use `spaghetti string` code (instead of using functions or loops, write every step out one by one):\n",
    "\n",
    "> **👾 💬 FYI**\n",
    "> Don't forget to refer to the turtle documentation for inspiration: https://docs.python.org/3/library/turtle.html."
   ]
  },
  {
   "cell_type": "code",
   "execution_count": 10,
   "id": "b51e36ec",
   "metadata": {},
   "outputs": [],
   "source": [
    "#your code here \n",
    "#create an orange square with sides of length 80\n",
    "#use spaghetti string style\n"
   ]
  },
  {
   "cell_type": "markdown",
   "id": "73d947ef",
   "metadata": {},
   "source": [
    "### Refresher: For loops\n",
    "Now, let's make the same drawing but instead of using spaghetti code, we will use a for loop to create the square.\n",
    "\n",
    "💻 Create a drawing in turtle that makes a regular `orange` `square` with `4 sides` and each side of `length 80`. Use a `for looop`:\n",
    "\n",
    "> **👾 💬 FYI**\n",
    "> Remember, we genreally want to avoid using 'spaghetti code'. If we notice we repeat the same piece of code multiple times, this is a hint that we should use a smarter method to accomplish the task (such as functions or loops). "
   ]
  },
  {
   "cell_type": "code",
   "execution_count": 16,
   "id": "08132bb9",
   "metadata": {},
   "outputs": [],
   "source": [
    "#your code here \n",
    "#create an orange square with sides of length 80\n",
    "#use a for loop to avoid code repititon \n"
   ]
  },
  {
   "cell_type": "markdown",
   "id": "60412756",
   "metadata": {},
   "source": [
    "### Refresher: While loops\n",
    "Now, let's make the same drawing but instead of using spaghetti code, we will use a for loop to create the square.\n",
    "\n",
    "💻 Create a drawing in turtle that makes a regular `orange` `square` with `4 sides` and each side of `length 80`. Create a variable called `count` that increments by `1` on each iteration. While the value of `count` is less than `3`, keep creating the square:\n",
    "\n",
    "> **💬 Discussion point:**\n",
    "> What is the difference between a while and for loop? Under what circumstances would you want to use a while loop?"
   ]
  },
  {
   "cell_type": "code",
   "execution_count": 20,
   "id": "520df991",
   "metadata": {},
   "outputs": [],
   "source": [
    "#your code here \n"
   ]
  },
  {
   "cell_type": "markdown",
   "id": "64132fcb",
   "metadata": {},
   "source": [
    "### Refresher: Conditonals\n",
    "To make things more exciting, let's add conditonals to change the shape. Create an input that takes either a square, triangle, or hexagon. \n",
    "\n",
    "💻 Create a drawing in turtle that makes an `orange shape` where each side has a length of `80`. Create a variable an input variables called `input_shape` that takes either of the following shapes: `[triangle, square, hexagon]`. Use conditonals to change the shape depending on the input. \n",
    "\n",
    "> **👾 💬 FYI**\n",
    "> Remember to use if, elif (else if) statements. If you want, you can also add an \"else\" statment that returns an error message for an invalid shape. Use the input function to trigger your code. Find documentation here: https://www.w3schools.com/python/ref_func_input.asp"
   ]
  },
  {
   "cell_type": "code",
   "execution_count": 1,
   "id": "09a57f3c",
   "metadata": {},
   "outputs": [],
   "source": [
    "#use the input function\n",
    "#your code here\n"
   ]
  },
  {
   "cell_type": "markdown",
   "id": "16f9be39",
   "metadata": {},
   "source": [
    "### Refresher: Functions\n",
    "If we want to reuse any pieces of code later on, we might want to put it into a function. Let's try making a function that allows us to make a square of any size and color.\n",
    "\n",
    "💻 Change the loop you made above into a function. The function should take `square_color` and `side_length` as arguments. \n",
    "\n",
    "> **💬 Discussion point:**\n",
    "> Why is putting the code into a function useful for decompositon? In what other situations could you imagine using this code? "
   ]
  },
  {
   "cell_type": "code",
   "execution_count": 38,
   "id": "b22888a9",
   "metadata": {},
   "outputs": [],
   "source": [
    "#create a function with side_length and color as arguments \n",
    "#call the function to make a blue square of size 100 and a red square of size 50"
   ]
  },
  {
   "cell_type": "markdown",
   "id": "3b6e7c8c",
   "metadata": {},
   "source": [
    "### Refresher: Fill the blanks\n",
    "\n",
    "💻 Remove the `____` and replace it with the correct code to make the function fun. "
   ]
  },
  {
   "cell_type": "code",
   "execution_count": null,
   "id": "38dd7bb3",
   "metadata": {},
   "outputs": [],
   "source": [
    "def ngon(num_sides, side_length):\n",
    "    \"\"\"Draws a regular polygon with \n",
    "    num_sides sides of length side_length\"\"\"\n",
    "    for i in range(____):\n",
    "        forward(____)\n",
    "        right(360/____)\n",
    "\n",
    "reset()\n",
    "speed(0)\n",
    "\n",
    "#make a hexagon of length 50\n",
    "#call the function here"
   ]
  },
  {
   "cell_type": "code",
   "execution_count": null,
   "id": "a21bcbff",
   "metadata": {},
   "outputs": [],
   "source": [
    "def is_even(num):\n",
    "    \"\"\"Takes a number and returns \n",
    "    True if the number is even\n",
    "    otherwise, returns False\"\"\"\n",
    "    if num % ____ == ____:\n",
    "        return True\n",
    "    ____:\n",
    "        return False\n",
    "\n",
    "#call the function on one even and one odd number\n",
    "#call your function here:"
   ]
  },
  {
   "cell_type": "markdown",
   "id": "76bd2db0",
   "metadata": {},
   "source": [
    "### Your own drawing\n",
    "Based on what you have learned so far, make any drawing in turtle. Try to incorporate concepts such as conditonals, functions, and for loops. Make the drawing of an object (it can be any object, such as a tree, a house, or a book).  \n",
    "\n",
    "💻 Create a drawing of any object using turlte (e.g., house, book, tree, flower, ice cream).\n",
    "\n",
    "> **👾 💬 FYI**\n",
    "> Python is an object oriented programming language. We can make Python objects using classes and we will see how we can turn the items you create into a Python object in later lessons. For now, just be creative and have fun!"
   ]
  },
  {
   "cell_type": "code",
   "execution_count": 4,
   "id": "8e02a1eb",
   "metadata": {},
   "outputs": [],
   "source": [
    "#example code:\n",
    "#drawing a house - this is a very basic example\n",
    "#feel free to make your object as complicated as you would like \n",
    "\n",
    "#make house frame\n",
    "reset()\n",
    "color('blue')\n",
    "begin_fill()\n",
    "for i in range(4):\n",
    "    forward(200)\n",
    "    right(90)\n",
    "end_fill()\n",
    "\n",
    "#make roof \n",
    "color('red')\n",
    "begin_fill()\n",
    "for i in range(3):\n",
    "    forward(200)\n",
    "    left(120)\n",
    "end_fill()\n",
    "    "
   ]
  },
  {
   "cell_type": "code",
   "execution_count": 51,
   "id": "c7cbbb40",
   "metadata": {},
   "outputs": [],
   "source": [
    "#make your object here!\n",
    "#your code here "
   ]
  },
  {
   "cell_type": "code",
   "execution_count": 5,
   "id": "d44e34db",
   "metadata": {},
   "outputs": [],
   "source": []
  },
  {
   "cell_type": "code",
   "execution_count": null,
   "id": "137a5a3e",
   "metadata": {},
   "outputs": [],
   "source": []
  }
 ],
 "metadata": {
  "kernelspec": {
   "display_name": "Python 3 (ipykernel)",
   "language": "python",
   "name": "python3"
  },
  "language_info": {
   "codemirror_mode": {
    "name": "ipython",
    "version": 3
   },
   "file_extension": ".py",
   "mimetype": "text/x-python",
   "name": "python",
   "nbconvert_exporter": "python",
   "pygments_lexer": "ipython3",
   "version": "3.8.2"
  }
 },
 "nbformat": 4,
 "nbformat_minor": 5
}
