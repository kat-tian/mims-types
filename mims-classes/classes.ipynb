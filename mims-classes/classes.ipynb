{
 "cells": [
  {
   "cell_type": "markdown",
   "id": "a62c51e3",
   "metadata": {},
   "source": [
    "# Python classes \n",
    "\n",
    "\n",
    "Python is an object oriented programming langauge and you can think of classes as a way to make Python objects. In fact, you can consider a class like the \"blueprint\" for your objects."
   ]
  },
  {
   "cell_type": "markdown",
   "id": "55414ebe",
   "metadata": {},
   "source": [
    "### What's the difference between a class and an object? \n",
    "\n",
    "As mentioned, you can think of the ***class** as the template (or \"blueprint\") for objects. An object belongs to a class as the class defines the object properties. <br>\n",
    "\n",
    "Take a car, for example. A car can mean many different things. What brand of car? What color? What size? There are many different ways to define a car. As such, we can consider \"car\" in the general term to be a class, while the specific type of car (e.g., red BMW) is an instance of the class \"car\". \n",
    "* A red BMW is an instance of the class **car**\n",
    "* A blue BMW s an instance of the class **car** \n",
    "* A white Tesla s an instance of the class **car**\n",
    "* A black Audi s an instance of the class **car**"
   ]
  },
  {
   "cell_type": "markdown",
   "id": "58208c4c",
   "metadata": {},
   "source": [
    "![class example](https://phpenthusiast.com/theme/assets/images/articles/classes_and_objects.jpg) "
   ]
  },
  {
   "cell_type": "markdown",
   "id": "75009713",
   "metadata": {},
   "source": [
    "### Let's create a car class\n",
    "Before we create our class, there are a couple of things we should note about Python classes: \n",
    "* A python class must begin with the keyword class followed by the class name\n",
    "    * ex., class car \n",
    "* Attributes are variables that belong to a class \n",
    "    * ex., we can say that every car should have an attribute \"brand\" and color\" \n",
    "* We can use the class to create new objects \n",
    "    * ex., we can call the car class to create a new instance of a car \n",
    "    * attributes are public and can be accessed through the dot operator (e.g., self.get) <br>\n",
    "    \n",
    "Alright then! Let's create our car class. We will make a class called \"car\" that has the attributes \"color\" and \"brand\". The class will have an instance method that prints the brand of the car and the color in a sentence. "
   ]
  },
  {
   "cell_type": "code",
   "execution_count": 6,
   "id": "27a45678",
   "metadata": {},
   "outputs": [
    {
     "name": "stdout",
     "output_type": "stream",
     "text": [
      "I have a BMW car and the color is red\n"
     ]
    }
   ],
   "source": [
    "class car:\n",
    "    #class variables \n",
    "    vehicle = 'car'\n",
    "    \n",
    "    #innit constructor\n",
    "    def __init__(self, color, brand):\n",
    "        self.color = color \n",
    "        self.brand = brand \n",
    "    \n",
    "    #instance method \n",
    "    def print_my_car(self): \n",
    "        print(\"I have a {} car and the color is {}\".format(self.brand, self.color))\n",
    "\n",
    "#create new car object\n",
    "new_car = car(\"red\", \"BMW\")\n",
    "#call the print method \n",
    "new_car.print_my_car()"
   ]
  },
  {
   "cell_type": "markdown",
   "id": "c21b2ae7",
   "metadata": {},
   "source": [
    "Now, we can create multiple instances of the car class! Each example below is a new car object. "
   ]
  },
  {
   "cell_type": "code",
   "execution_count": 10,
   "id": "40fb6cd4",
   "metadata": {},
   "outputs": [
    {
     "name": "stdout",
     "output_type": "stream",
     "text": [
      "I have a Tesla car and the color is white\n",
      "I have a Volvo car and the color is blue\n",
      "I have a Toyota car and the color is brown\n",
      "I have a Audi car and the color is black\n"
     ]
    }
   ],
   "source": [
    "white_car = car(\"white\", \"Tesla\")\n",
    "white_car.print_my_car()\n",
    "\n",
    "blue_car = car(\"blue\", \"Volvo\")\n",
    "blue_car.print_my_car()\n",
    "\n",
    "brown_car = car(\"brown\", \"Toyota\")\n",
    "brown_car.print_my_car()\n",
    "\n",
    "black_car = car(\"black\", \"Audi\")\n",
    "black_car.print_my_car()"
   ]
  },
  {
   "cell_type": "markdown",
   "id": "92716f9a",
   "metadata": {},
   "source": [
    "Now it's your turn! We'll start with a simple exercise of creating a new car object. \n",
    "\n",
    "💻 Using the car class defined above, create a new car object using a color and brand of your choice:"
   ]
  },
  {
   "cell_type": "code",
   "execution_count": null,
   "id": "7647d029",
   "metadata": {},
   "outputs": [],
   "source": [
    "#your code here "
   ]
  },
  {
   "cell_type": "markdown",
   "id": "28f3cf17",
   "metadata": {},
   "source": [
    "### Create a Pizza class\n",
    "\n",
    "💻 Create a class with the following instructions: \n",
    "* Name your class \"Pizza\"\n",
    "* Your class should have the following attributes in the constructor: \n",
    "    * cheese\n",
    "    * topping\n",
    "* Create an instance method that prints the following: \n",
    "    * \"you ordered a {cheese type goes here} pizza with {topping goes here}\"\n",
    "* Create Pizza class with cheese: cheddar and topping: mushrooms\n",
    "* Create a couple of Pizza classes of your choice! "
   ]
  },
  {
   "cell_type": "code",
   "execution_count": null,
   "id": "d161a53c",
   "metadata": {},
   "outputs": [],
   "source": [
    "class Pizza: \n",
    "#your code here "
   ]
  },
  {
   "cell_type": "markdown",
   "id": "8eacf122",
   "metadata": {},
   "source": [
    "### Create an apartment class\n",
    "\n",
    "💻 Create a class with the following instructions: \n",
    "* Name your class \"Apartment\"\n",
    "* Your class should have the following attributes in the constructor: \n",
    "    * size in square feet\n",
    "    * city \n",
    "* Create an instance method that prints the following: \n",
    "    * \"I live in a {aparment size goes here} sq ft apartment in {city goes here}\""
   ]
  },
  {
   "cell_type": "code",
   "execution_count": null,
   "id": "014763a1",
   "metadata": {},
   "outputs": [],
   "source": [
    "#your code here "
   ]
  },
  {
   "cell_type": "markdown",
   "id": "a35441cd",
   "metadata": {},
   "source": [
    "### Create a temperature class\n",
    "\n",
    "💻 Create a Temprature class. \n",
    "Make two methods :\n",
    "1. convertFahrenheit - It will take celsius and will print it into Fahrenheit.\n",
    "2. convertCelsius - It will take Fahrenheit and will convert it into Celsius."
   ]
  },
  {
   "cell_type": "code",
   "execution_count": null,
   "id": "ecbd2c87",
   "metadata": {},
   "outputs": [],
   "source": [
    "#your code here "
   ]
  },
  {
   "cell_type": "markdown",
   "id": "d4d01dee",
   "metadata": {},
   "source": [
    "### Create a time class\n",
    "\n",
    "💻Create a Time class and initialize it with hours and minutes.\n",
    "1. Make a method `addTime` which should take two time objects and add them. E.g.- (2 hour and 50 min)+(1 hr and 20 min) is (4 hr and 10 min)\n",
    "2. Make a method `displayTime` which should print the time.\n",
    "3. Make a method `DisplayMinute` which should display the total minutes in the Time. E.g.- (1 hr 2 min) should display 62 minute."
   ]
  },
  {
   "cell_type": "code",
   "execution_count": null,
   "id": "22380535",
   "metadata": {},
   "outputs": [],
   "source": [
    "#your code here"
   ]
  },
  {
   "cell_type": "markdown",
   "id": "04930779",
   "metadata": {},
   "source": [
    "## Let's review all the elements of a Python class! \n",
    "Recall that:\n",
    "* Classes are defined with the class keyword\n",
    "* A constructor is used to initialize instance variables \n",
    "* The constructor uses the __init__ keyword\n",
    "* A function within a class is called a method \n",
    "\n",
    "![class example](https://pynative.com/wp-content/uploads/2021/08/class_method.png)"
   ]
  },
  {
   "cell_type": "markdown",
   "id": "b1d78508",
   "metadata": {},
   "source": [
    "## Great a guessing game!\n",
    "\n",
    "Create a Python class to make a game. \n",
    " The user has to guess the randomly generated number that lies between the range from 1 to 100. We have to provide hints to the users to guess the number. \n",
    " We have to provide a message to the user saying the current guessed number is less than the correct number or the current guessed number is greater than the correct number. So that users will know in which direction they have to go.\n",
    " \n",
    "Instructions: \n",
    "* Define the range of the numbers. By default, it’s 1-100 but you can change it as you prefer.\n",
    "* Generate a random integer from the above range (1-100).\n",
    "* Start the game by displaying the user a message saying “Guess the number from X to Y”. You may update the message as\n",
    "you wish.\n",
    "* Initialize a variable to 0 to count the total number of chances that the user has taken to guess the number correctly.\n",
    "* Write an infinite loop.\n",
    "* Ask the user to guess the number.\n",
    "* If the current guessed number is equal to the randomly generated number, then congratulate the user with a message as you like. An example would be “-> Hurray! You got it in 5 steps!”.\n",
    "* Break the loop after congratulating the user.\n",
    "* If the current guessed number is less than the randomly generated number, then give a message to the user saying “-> * Your number is less than the random number” or a custom message having the same meaning.\n",
    "* If the current guessed number is greater than the randomly generated number, then give a message to the user saying “-> Your number is greater than the random number” or a custom with the same meaning.\n",
    "* Finally, increment the chances that the user has taken to guess.\n",
    "\n"
   ]
  },
  {
   "cell_type": "code",
   "execution_count": null,
   "id": "1ee4f71e",
   "metadata": {},
   "outputs": [],
   "source": [
    "import random\n",
    "class NumberGuessingGame:\n",
    "\n",
    "    def __init__(self):\n",
    "        ## define the range\n",
    "        self.LOWER = 1\n",
    "        self.HIGHER = 100\n",
    "    #your code here \n",
    "        \n",
    "        \n",
    "        "
   ]
  },
  {
   "cell_type": "code",
   "execution_count": null,
   "id": "bf4910db",
   "metadata": {},
   "outputs": [],
   "source": []
  },
  {
   "cell_type": "code",
   "execution_count": null,
   "id": "c9df3e39",
   "metadata": {},
   "outputs": [],
   "source": []
  },
  {
   "cell_type": "code",
   "execution_count": null,
   "id": "5a6826e3",
   "metadata": {},
   "outputs": [],
   "source": []
  },
  {
   "cell_type": "code",
   "execution_count": null,
   "id": "2e7039bb",
   "metadata": {},
   "outputs": [],
   "source": []
  },
  {
   "cell_type": "markdown",
   "id": "6e6f3668",
   "metadata": {},
   "source": [
    "##### Resources\n",
    "https://pynative.com/python-class-method/\n",
    "https://phpenthusiast.com/object-oriented-php-tutorials/create-classes-and-objects#:~:text=A%20class%20holds%20the%20methods,different%20values%20assigned%20to%20them.\n",
    "https://geekflare.com/python-number-guessing-game/"
   ]
  },
  {
   "cell_type": "code",
   "execution_count": null,
   "id": "b4932a95",
   "metadata": {},
   "outputs": [],
   "source": []
  }
 ],
 "metadata": {
  "kernelspec": {
   "display_name": "Python 3 (ipykernel)",
   "language": "python",
   "name": "python3"
  },
  "language_info": {
   "codemirror_mode": {
    "name": "ipython",
    "version": 3
   },
   "file_extension": ".py",
   "mimetype": "text/x-python",
   "name": "python",
   "nbconvert_exporter": "python",
   "pygments_lexer": "ipython3",
   "version": "3.8.2"
  }
 },
 "nbformat": 4,
 "nbformat_minor": 5
}
